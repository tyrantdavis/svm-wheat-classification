{
 "cells": [
  {
   "cell_type": "markdown",
   "id": "5f18e2f3-f1e9-4a25-827f-66ccfe85cdde",
   "metadata": {},
   "source": [
    "# Import Packages"
   ]
  },
  {
   "cell_type": "code",
   "execution_count": 1,
   "id": "00b73d05-1e1b-402a-ad14-4ed660011b73",
   "metadata": {},
   "outputs": [
    {
     "name": "stdout",
     "output_type": "stream",
     "text": [
      "Libraries used in this project:\n",
      "- Python 3.9.20 (main, Oct  3 2024, 02:27:54) \n",
      "[Clang 14.0.6 ]\n",
      "- NumPy 1.22.3\n",
      "- pandas 1.4.1\n",
      "- Matplotlib 3.8.4\n",
      "- scikit-learn 1.2.2\n",
      "\n"
     ]
    }
   ],
   "source": [
    "import sys  # Read system parameters.\n",
    "\n",
    "import matplotlib as mpl  # Create 2D charts.\n",
    "import matplotlib.pyplot as plt\n",
    "import numpy as np  # Work with multi-dimensional arrays and matrices.\n",
    "import pandas as pd  # Manipulate and analyze data.\n",
    "import seaborn as sb  # Perform data visualization.\n",
    "import sklearn  # Perform data mining and analysis.\n",
    "from sklearn import datasets\n",
    "from sklearn.linear_model import LogisticRegression\n",
    "from sklearn.metrics import accuracy_score, f1_score, precision_score, recall_score\n",
    "from sklearn.model_selection import GridSearchCV, train_test_split\n",
    "from sklearn.svm import SVC\n",
    "\n",
    "# Print summary\n",
    "print(\"Libraries used in this project:\")\n",
    "print(\"- Python {}\".format(sys.version))\n",
    "print(\"- NumPy {}\".format(np.__version__))\n",
    "print(\"- pandas {}\".format(pd.__version__))\n",
    "print(\"- Matplotlib {}\".format(mpl.__version__))\n",
    "print(\"- scikit-learn {}\\n\".format(sklearn.__version__))"
   ]
  },
  {
   "cell_type": "code",
   "execution_count": 2,
   "id": "d8ce95dd-63bb-4bbd-9c18-f0911945b71e",
   "metadata": {},
   "outputs": [],
   "source": [
    "wheat = pd.read_csv(\n",
    "    \"https://raw.githubusercontent.com/tyrantdavis/datasets/refs/heads/main/wheat_seeds.csv\",\n",
    "    header=None,\n",
    "    delimiter=\",\",\n",
    "    names=[\n",
    "        \"Area\",\n",
    "        \"Perimeter\",\n",
    "        \"Compactness\",\n",
    "        \"Length_of_kernel\",\n",
    "        \"Width_of_kernel\",\n",
    "        \"Asymmetry_coefficient\",\n",
    "        \"Length_of_kernel_groove\",\n",
    "        \"Class(123)\",\n",
    "    ],\n",
    ")\n",
    "df = wheat.copy()"
   ]
  },
  {
   "cell_type": "markdown",
   "id": "18c4f9ef-fb52-42d9-ad3c-70a507af3f4f",
   "metadata": {},
   "source": [
    "### View sample data"
   ]
  },
  {
   "cell_type": "code",
   "execution_count": 3,
   "id": "17780c53-6a3a-4175-9ac7-a6b7d12dba11",
   "metadata": {},
   "outputs": [
    {
     "data": {
      "text/html": [
       "<div>\n",
       "<style scoped>\n",
       "    .dataframe tbody tr th:only-of-type {\n",
       "        vertical-align: middle;\n",
       "    }\n",
       "\n",
       "    .dataframe tbody tr th {\n",
       "        vertical-align: top;\n",
       "    }\n",
       "\n",
       "    .dataframe thead th {\n",
       "        text-align: right;\n",
       "    }\n",
       "</style>\n",
       "<table border=\"1\" class=\"dataframe\">\n",
       "  <thead>\n",
       "    <tr style=\"text-align: right;\">\n",
       "      <th></th>\n",
       "      <th>Area</th>\n",
       "      <th>Perimeter</th>\n",
       "      <th>Compactness</th>\n",
       "      <th>Length_of_kernel</th>\n",
       "      <th>Width_of_kernel</th>\n",
       "      <th>Asymmetry_coefficient</th>\n",
       "      <th>Length_of_kernel_groove</th>\n",
       "      <th>Class(123)</th>\n",
       "    </tr>\n",
       "  </thead>\n",
       "  <tbody>\n",
       "    <tr>\n",
       "      <th>0</th>\n",
       "      <td>15.26</td>\n",
       "      <td>14.84</td>\n",
       "      <td>0.8710</td>\n",
       "      <td>5.763</td>\n",
       "      <td>3.312</td>\n",
       "      <td>2.221</td>\n",
       "      <td>5.220</td>\n",
       "      <td>1</td>\n",
       "    </tr>\n",
       "    <tr>\n",
       "      <th>1</th>\n",
       "      <td>14.88</td>\n",
       "      <td>14.57</td>\n",
       "      <td>0.8811</td>\n",
       "      <td>5.554</td>\n",
       "      <td>3.333</td>\n",
       "      <td>1.018</td>\n",
       "      <td>4.956</td>\n",
       "      <td>1</td>\n",
       "    </tr>\n",
       "    <tr>\n",
       "      <th>2</th>\n",
       "      <td>14.29</td>\n",
       "      <td>14.09</td>\n",
       "      <td>0.9050</td>\n",
       "      <td>5.291</td>\n",
       "      <td>3.337</td>\n",
       "      <td>2.699</td>\n",
       "      <td>4.825</td>\n",
       "      <td>1</td>\n",
       "    </tr>\n",
       "    <tr>\n",
       "      <th>3</th>\n",
       "      <td>13.84</td>\n",
       "      <td>13.94</td>\n",
       "      <td>0.8955</td>\n",
       "      <td>5.324</td>\n",
       "      <td>3.379</td>\n",
       "      <td>2.259</td>\n",
       "      <td>4.805</td>\n",
       "      <td>1</td>\n",
       "    </tr>\n",
       "    <tr>\n",
       "      <th>4</th>\n",
       "      <td>16.14</td>\n",
       "      <td>14.99</td>\n",
       "      <td>0.9034</td>\n",
       "      <td>5.658</td>\n",
       "      <td>3.562</td>\n",
       "      <td>1.355</td>\n",
       "      <td>5.175</td>\n",
       "      <td>1</td>\n",
       "    </tr>\n",
       "  </tbody>\n",
       "</table>\n",
       "</div>"
      ],
      "text/plain": [
       "    Area  Perimeter  Compactness  Length_of_kernel  Width_of_kernel  \\\n",
       "0  15.26      14.84       0.8710             5.763            3.312   \n",
       "1  14.88      14.57       0.8811             5.554            3.333   \n",
       "2  14.29      14.09       0.9050             5.291            3.337   \n",
       "3  13.84      13.94       0.8955             5.324            3.379   \n",
       "4  16.14      14.99       0.9034             5.658            3.562   \n",
       "\n",
       "   Asymmetry_coefficient  Length_of_kernel_groove  Class(123)  \n",
       "0                  2.221                    5.220           1  \n",
       "1                  1.018                    4.956           1  \n",
       "2                  2.699                    4.825           1  \n",
       "3                  2.259                    4.805           1  \n",
       "4                  1.355                    5.175           1  "
      ]
     },
     "execution_count": 3,
     "metadata": {},
     "output_type": "execute_result"
    }
   ],
   "source": [
    "df.head()"
   ]
  },
  {
   "cell_type": "markdown",
   "id": "b434ffb3-269a-4a5c-9119-b8bcb843d649",
   "metadata": {},
   "source": [
    "## Explore the Dataset"
   ]
  },
  {
   "cell_type": "markdown",
   "id": "2c64b92f-3597-4e92-86ed-8cce602a4659",
   "metadata": {},
   "source": [
    "#### Count total NaN or missing values for each column in a DataFrame\n",
    "\n",
    "The next step checks for Nan and Null or missing values. This may be considered somewhat repetitive since the details are already included in the output of the .info() command. Nevertheless, there is no disadvantage in being thoroughly comprehensive."
   ]
  },
  {
   "cell_type": "code",
   "execution_count": 4,
   "id": "f1e52e85-a6b0-4f5f-9029-b85e187a6713",
   "metadata": {},
   "outputs": [
    {
     "name": "stdout",
     "output_type": "stream",
     "text": [
      " \n",
      "Count total NaN at each column in a DataFrame : \n",
      "\n",
      " Area                       0\n",
      "Perimeter                  0\n",
      "Compactness                0\n",
      "Length_of_kernel           0\n",
      "Width_of_kernel            0\n",
      "Asymmetry_coefficient      0\n",
      "Length_of_kernel_groove    0\n",
      "Class(123)                 0\n",
      "dtype: int64\n"
     ]
    }
   ],
   "source": [
    "print(\" \\nCount total NaN at each column in a DataFrame : \\n\\n\", df.isnull().sum())"
   ]
  },
  {
   "cell_type": "code",
   "execution_count": 5,
   "id": "8c9eef66-d540-4b2f-b8e4-2b03f9f13337",
   "metadata": {
    "scrolled": true
   },
   "outputs": [
    {
     "name": "stdout",
     "output_type": "stream",
     "text": [
      "<class 'pandas.core.frame.DataFrame'>\n",
      "RangeIndex: 210 entries, 0 to 209\n",
      "Data columns (total 8 columns):\n",
      " #   Column                   Non-Null Count  Dtype  \n",
      "---  ------                   --------------  -----  \n",
      " 0   Area                     210 non-null    float64\n",
      " 1   Perimeter                210 non-null    float64\n",
      " 2   Compactness              210 non-null    float64\n",
      " 3   Length_of_kernel         210 non-null    float64\n",
      " 4   Width_of_kernel          210 non-null    float64\n",
      " 5   Asymmetry_coefficient    210 non-null    float64\n",
      " 6   Length_of_kernel_groove  210 non-null    float64\n",
      " 7   Class(123)               210 non-null    int64  \n",
      "dtypes: float64(7), int64(1)\n",
      "memory usage: 13.2 KB\n"
     ]
    }
   ],
   "source": [
    "df.info()"
   ]
  },
  {
   "cell_type": "markdown",
   "id": "6aa8ec3a-180f-40f2-ac72-fe3947d564d6",
   "metadata": {},
   "source": [
    "### Check the data types and look for any missing entries."
   ]
  },
  {
   "cell_type": "markdown",
   "id": "cbb62588-e352-40a7-9190-3362a726446b",
   "metadata": {},
   "source": [
    "**Spotlights** \n",
    "\n",
    "- The dataset consists of 210 entries and 5 attributes.\n",
    "- All attributes are float numbers, except for the target attribute, which consists of integers. This target attribute indicates the seeds species that the model is expected to predict, categorized as 1, 2, or 3.\n",
    "  \n",
    "The labels for each species are defined as follows:\n",
    "- Kama is labeled as 1.\n",
    "- Rosa is labeled as 2.\n",
    "- Canadian is labeled as 3.\n",
    "\n",
    "- There are no missing values; every entry is complete with data in all attributes.\n",
    "- The attributes provide various characteristics that aid in the classification of each specimen."
   ]
  },
  {
   "cell_type": "code",
   "execution_count": 6,
   "id": "f95f0b0d-9da6-4807-ad12-19d0792dcb32",
   "metadata": {},
   "outputs": [
    {
     "name": "stdout",
     "output_type": "stream",
     "text": [
      "Kama (Class 1): 70 \n",
      "\n",
      "Rosa (Class 2): 70 \n",
      "\n",
      "Besni (Class 3): 70 \n",
      "\n"
     ]
    }
   ],
   "source": [
    "target_classes = df[\"Class(123)\"].value_counts()\n",
    "\n",
    "target_classes_list = target_classes.to_list()\n",
    "print(\"Kama (Class 1):\", target_classes_list[0], \"\\n\")\n",
    "print(\"Rosa (Class 2):\", target_classes_list[1], \"\\n\")\n",
    "print(\"Besni (Class 3):\", target_classes_list[2], \"\\n\")\n"
   ]
  },
  {
   "cell_type": "markdown",
   "id": "81cf25c8-cef6-4e68-8e86-25afb6af3795",
   "metadata": {},
   "source": [
    "### Rename target column 'Class' "
   ]
  },
  {
   "cell_type": "code",
   "execution_count": 7,
   "id": "dddb63f6-26cf-4313-b988-4ea935981597",
   "metadata": {},
   "outputs": [
    {
     "data": {
      "text/html": [
       "<div>\n",
       "<style scoped>\n",
       "    .dataframe tbody tr th:only-of-type {\n",
       "        vertical-align: middle;\n",
       "    }\n",
       "\n",
       "    .dataframe tbody tr th {\n",
       "        vertical-align: top;\n",
       "    }\n",
       "\n",
       "    .dataframe thead th {\n",
       "        text-align: right;\n",
       "    }\n",
       "</style>\n",
       "<table border=\"1\" class=\"dataframe\">\n",
       "  <thead>\n",
       "    <tr style=\"text-align: right;\">\n",
       "      <th></th>\n",
       "      <th>Area</th>\n",
       "      <th>Perimeter</th>\n",
       "      <th>Compactness</th>\n",
       "      <th>Length_of_kernel</th>\n",
       "      <th>Width_of_kernel</th>\n",
       "      <th>Asymmetry_coefficient</th>\n",
       "      <th>Length_of_kernel_groove</th>\n",
       "      <th>target</th>\n",
       "    </tr>\n",
       "  </thead>\n",
       "  <tbody>\n",
       "    <tr>\n",
       "      <th>0</th>\n",
       "      <td>15.26</td>\n",
       "      <td>14.84</td>\n",
       "      <td>0.8710</td>\n",
       "      <td>5.763</td>\n",
       "      <td>3.312</td>\n",
       "      <td>2.221</td>\n",
       "      <td>5.220</td>\n",
       "      <td>1</td>\n",
       "    </tr>\n",
       "    <tr>\n",
       "      <th>1</th>\n",
       "      <td>14.88</td>\n",
       "      <td>14.57</td>\n",
       "      <td>0.8811</td>\n",
       "      <td>5.554</td>\n",
       "      <td>3.333</td>\n",
       "      <td>1.018</td>\n",
       "      <td>4.956</td>\n",
       "      <td>1</td>\n",
       "    </tr>\n",
       "    <tr>\n",
       "      <th>2</th>\n",
       "      <td>14.29</td>\n",
       "      <td>14.09</td>\n",
       "      <td>0.9050</td>\n",
       "      <td>5.291</td>\n",
       "      <td>3.337</td>\n",
       "      <td>2.699</td>\n",
       "      <td>4.825</td>\n",
       "      <td>1</td>\n",
       "    </tr>\n",
       "    <tr>\n",
       "      <th>3</th>\n",
       "      <td>13.84</td>\n",
       "      <td>13.94</td>\n",
       "      <td>0.8955</td>\n",
       "      <td>5.324</td>\n",
       "      <td>3.379</td>\n",
       "      <td>2.259</td>\n",
       "      <td>4.805</td>\n",
       "      <td>1</td>\n",
       "    </tr>\n",
       "    <tr>\n",
       "      <th>4</th>\n",
       "      <td>16.14</td>\n",
       "      <td>14.99</td>\n",
       "      <td>0.9034</td>\n",
       "      <td>5.658</td>\n",
       "      <td>3.562</td>\n",
       "      <td>1.355</td>\n",
       "      <td>5.175</td>\n",
       "      <td>1</td>\n",
       "    </tr>\n",
       "  </tbody>\n",
       "</table>\n",
       "</div>"
      ],
      "text/plain": [
       "    Area  Perimeter  Compactness  Length_of_kernel  Width_of_kernel  \\\n",
       "0  15.26      14.84       0.8710             5.763            3.312   \n",
       "1  14.88      14.57       0.8811             5.554            3.333   \n",
       "2  14.29      14.09       0.9050             5.291            3.337   \n",
       "3  13.84      13.94       0.8955             5.324            3.379   \n",
       "4  16.14      14.99       0.9034             5.658            3.562   \n",
       "\n",
       "   Asymmetry_coefficient  Length_of_kernel_groove  target  \n",
       "0                  2.221                    5.220       1  \n",
       "1                  1.018                    4.956       1  \n",
       "2                  2.699                    4.825       1  \n",
       "3                  2.259                    4.805       1  \n",
       "4                  1.355                    5.175       1  "
      ]
     },
     "execution_count": 7,
     "metadata": {},
     "output_type": "execute_result"
    }
   ],
   "source": [
    "df.rename(columns={\"Class(123)\": \"target\"}, inplace=True)\n",
    "df.head()"
   ]
  },
  {
   "cell_type": "code",
   "execution_count": 8,
   "id": "c9941638-69e2-4256-b1ee-c7bd4741eb85",
   "metadata": {},
   "outputs": [
    {
     "data": {
      "text/plain": [
       "<Axes: title={'center': 'Count (target)'}>"
      ]
     },
     "execution_count": 8,
     "metadata": {},
     "output_type": "execute_result"
    },
    {
     "data": {
      "image/png": "[encoded data removed]",
      "text/plain": [
       "<Figure size 640x480 with 1 Axes>"
      ]
     },
     "metadata": {},
     "output_type": "display_data"
    }
   ],
   "source": [
    "target_classes.plot(kind=\"bar\", title=\"Count (target)\", grid=False)"
   ]
  },
  {
   "cell_type": "markdown",
   "id": "6e4a7902-2231-4a3b-b64e-e0bc428ab6ec",
   "metadata": {},
   "source": [
    "**Spotlights** \n",
    "\n",
    "The distribution of outcomes in this dataset is notably symmetrical, with both classes occurring at equal frequencies. This characteristic positions it as an excellent candidate for implementation within a Support Vector Machine (SVM) model, distinguishing it from many datasets typically found in practical applications."
   ]
  },
  {
   "cell_type": "markdown",
   "id": "36bb6f6d-e1da-4a2c-82f9-a6861b3d9fa3",
   "metadata": {},
   "source": [
    "## Examine Summary Statistics"
   ]
  },
  {
   "cell_type": "code",
   "execution_count": 9,
   "id": "6f37fe30-a316-454d-ac23-4c2ad26702a9",
   "metadata": {},
   "outputs": [
    {
     "name": "stdout",
     "output_type": "stream",
     "text": [
      "        Area  Perimeter  Compactness  Length_of_kernel  Width_of_kernel  \\\n",
      "count 210.00     210.00       210.00            210.00           210.00   \n",
      "mean   14.85      14.56         0.87              5.63             3.26   \n",
      "std     2.91       1.31         0.02              0.44             0.38   \n",
      "min    10.59      12.41         0.81              4.90             2.63   \n",
      "25%    12.27      13.45         0.86              5.26             2.94   \n",
      "50%    14.36      14.32         0.87              5.52             3.24   \n",
      "75%    17.30      15.71         0.89              5.98             3.56   \n",
      "max    21.18      17.25         0.92              6.67             4.03   \n",
      "\n",
      "       Asymmetry_coefficient  Length_of_kernel_groove  target  \n",
      "count                 210.00                   210.00  210.00  \n",
      "mean                    3.70                     5.41    2.00  \n",
      "std                     1.50                     0.49    0.82  \n",
      "min                     0.77                     4.52    1.00  \n",
      "25%                     2.56                     5.04    1.00  \n",
      "50%                     3.60                     5.22    2.00  \n",
      "75%                     4.77                     5.88    3.00  \n",
      "max                     8.46                     6.55    3.00  \n"
     ]
    }
   ],
   "source": [
    "with pd.option_context(\"float_format\", \"{:.2f}\".format):\n",
    "    print(df.describe())"
   ]
  },
  {
   "cell_type": "markdown",
   "id": "f21a167d-9251-4cb8-8cd5-85425b961015",
   "metadata": {},
   "source": [
    "**Spotlights**\n",
    "\n",
    "- The dataset is quite straightforward and generally tidy, requiring minimal feature engineering.\n",
    "- There might be a handful of outliers that could affect the performance of a classification model."
   ]
  }
 ],
 "metadata": {
  "kernelspec": {
   "display_name": "Python 3 (ipykernel)",
   "language": "python",
   "name": "python3"
  },
  "language_info": {
   "codemirror_mode": {
    "name": "ipython",
    "version": 3
   },
   "file_extension": ".py",
   "mimetype": "text/x-python",
   "name": "python",
   "nbconvert_exporter": "python",
   "pygments_lexer": "ipython3",
   "version": "3.9.20"
  }
 },
 "nbformat": 4,
 "nbformat_minor": 5
}
